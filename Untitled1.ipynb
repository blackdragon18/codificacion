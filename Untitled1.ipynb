{
  "nbformat": 4,
  "nbformat_minor": 0,
  "metadata": {
    "colab": {
      "provenance": [],
      "mount_file_id": "1DDr2pcTVEEodPz2RIsuqge2BsnmRZJaW",
      "authorship_tag": "ABX9TyO1lkBemcUwlSY736fYMEGj",
      "include_colab_link": true
    },
    "kernelspec": {
      "name": "python3",
      "display_name": "Python 3"
    },
    "language_info": {
      "name": "python"
    }
  },
  "cells": [
    {
      "cell_type": "markdown",
      "metadata": {
        "id": "view-in-github",
        "colab_type": "text"
      },
      "source": [
        "<a href=\"https://colab.research.google.com/github/blackdragon18/codificacion/blob/main/Untitled1.ipynb\" target=\"_parent\"><img src=\"https://colab.research.google.com/assets/colab-badge.svg\" alt=\"Open In Colab\"/></a>"
      ]
    },
    {
      "cell_type": "code",
      "execution_count": null,
      "metadata": {
        "id": "duRXtV5VTzNd"
      },
      "outputs": [],
      "source": [
        "import pandas as pd\n",
        "import numpy as np\n",
        "import matplotlib as plt"
      ]
    },
    {
      "cell_type": "code",
      "source": [
        "from google.colab import drive\n",
        "drive.mount('/content/gdrive')"
      ],
      "metadata": {
        "colab": {
          "base_uri": "https://localhost:8080/"
        },
        "id": "w_1VtxhJvpo7",
        "outputId": "8bc987e2-0f1d-4ad9-b22c-cdfcc1e16ce3"
      },
      "execution_count": null,
      "outputs": [
        {
          "output_type": "stream",
          "name": "stdout",
          "text": [
            "Mounted at /content/gdrive\n"
          ]
        }
      ]
    },
    {
      "cell_type": "code",
      "source": [
        "import os\n",
        "import numpy as np\n",
        "\"\"\"folder_path =r\"D:\\Speech Data\\gop_vector_native\\gop_vector_justin\"\n",
        "file_list=[]\n",
        "file_list = [file for file in os.listdir(folder_path) if file.endswith('.npy')]\n",
        "data_list = []\n",
        "print(\"The files in native are:\")\n",
        "print(file_list)\n",
        "for file_name in file_list:\n",
        "    file_path = os.path.join(folder_path, file_name)\n",
        "    #print(file_path)\n",
        "    data = np.load(file_path)\n",
        "    #print(data)\n",
        "    data_list.append(data)\n",
        "print(data_list)\n",
        "\"\"\"\n",
        "\n",
        "\n",
        "folder_path =r\"/content/drive/MyDrive/Speech Data/gop_vector_non_native/gop_vector_non_native\"\n",
        "file_list=[]\n",
        "file_list = [file for file in os.listdir(folder_path) if file.endswith('.npy')]\n",
        "print(\"The files in  non native are:\")\n",
        "#print(file_list)\n",
        "data_list = []\n",
        "count=0\n",
        "for file_name in file_list:\n",
        "    file_path = os.path.join(folder_path, file_name)\n",
        "    #print(file_path)\n",
        "    data = np.load(file_path)\n",
        "    #print(data)\n",
        "    data_list.append(data)\n",
        "    count+=1\n",
        "#print(data_list)\n",
        "print(count)"
      ],
      "metadata": {
        "colab": {
          "base_uri": "https://localhost:8080/"
        },
        "id": "BJiyJyRakxfo",
        "outputId": "20965a6a-b11b-44e3-8931-9b27e801d5be"
      },
      "execution_count": null,
      "outputs": [
        {
          "output_type": "stream",
          "name": "stdout",
          "text": [
            "The files in  non native are:\n",
            "10011\n"
          ]
        }
      ]
    }
  ]
}